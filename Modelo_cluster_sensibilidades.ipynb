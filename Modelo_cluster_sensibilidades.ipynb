{
 "cells": [
  {
   "cell_type": "markdown",
   "id": "df501c22-bef7-4e80-ab6f-499c95ceae0c",
   "metadata": {},
   "source": [
    "### Algoritmo para classificar sensibilidades"
   ]
  },
  {
   "cell_type": "markdown",
   "id": "ee49bfa6-36f4-41ac-beee-82e1234a7fe1",
   "metadata": {},
   "source": [
    "#### Importando as bibliotecas"
   ]
  },
  {
   "cell_type": "code",
   "execution_count": 47,
   "id": "de1169a0-a416-4beb-9a30-16e50af81773",
   "metadata": {},
   "outputs": [],
   "source": [
    "# tratamento dos dados\n",
    "import pandas as pd\n",
    "import numpy as np\n",
    "\n",
    "# plot dos gráficos\n",
    "import matplotlib.pyplot as plt\n",
    "from matplotlib import colors\n",
    "import seaborn as sns\n",
    "\n",
    "# algoritmo de agrupamento\n",
    "from sklearn.cluster import KMeans, DBSCAN\n",
    "\n",
    "# feature engineering\n",
    "from sklearn.preprocessing import StandardScaler\n",
    "\n",
    "# avaliacao do desempenho\n",
    "from sklearn.metrics import silhouette_score, adjusted_rand_score"
   ]
  },
  {
   "cell_type": "markdown",
   "id": "040b3890-5852-49d2-be3e-443e0636540e",
   "metadata": {},
   "source": [
    "#### Carregando os dados"
   ]
  },
  {
   "cell_type": "code",
   "execution_count": 18,
   "id": "ca4d0069-0666-4550-aadc-d3be8c018e50",
   "metadata": {},
   "outputs": [],
   "source": [
    "dados = pd.read_excel(r'D:\\Documentos\\Projetos\\Modelo cluster sensibilidade\\Dados\\dados_produtos.xls', decimal=',')"
   ]
  },
  {
   "cell_type": "markdown",
   "id": "f7a69fd4",
   "metadata": {},
   "source": [
    "#### Limpeza dos dados"
   ]
  },
  {
   "cell_type": "code",
   "execution_count": 19,
   "id": "012169f3-7868-4cc1-89e5-9d8517b3c70b",
   "metadata": {},
   "outputs": [
    {
     "data": {
      "text/html": [
       "<div>\n",
       "<style scoped>\n",
       "    .dataframe tbody tr th:only-of-type {\n",
       "        vertical-align: middle;\n",
       "    }\n",
       "\n",
       "    .dataframe tbody tr th {\n",
       "        vertical-align: top;\n",
       "    }\n",
       "\n",
       "    .dataframe thead th {\n",
       "        text-align: right;\n",
       "    }\n",
       "</style>\n",
       "<table border=\"1\" class=\"dataframe\">\n",
       "  <thead>\n",
       "    <tr style=\"text-align: right;\">\n",
       "      <th></th>\n",
       "      <th>Código Barras SKU</th>\n",
       "      <th>Nome SKU</th>\n",
       "      <th>Marca SKU</th>\n",
       "      <th>Fabricante SKU</th>\n",
       "      <th>.Cesta</th>\n",
       "      <th>.Categoria</th>\n",
       "      <th>.Sub-Categoria</th>\n",
       "      <th>Ranking na Categoria Grupo</th>\n",
       "      <th>Ranking na Categoria Mercado</th>\n",
       "      <th>Share Sku Grupo na Categoria</th>\n",
       "      <th>...</th>\n",
       "      <th>Decil Mercado (Cesta)</th>\n",
       "      <th>Valor Produto Grupo (6M)</th>\n",
       "      <th>Valor Produto Mercado (6M)</th>\n",
       "      <th>Giro unitario por loja Grupo PF</th>\n",
       "      <th>Giro unitario por loja Mercado PF</th>\n",
       "      <th>Preço médio Grupo PF</th>\n",
       "      <th>Preço médio Mercado PF</th>\n",
       "      <th>Indice de Preço PF</th>\n",
       "      <th>% PDVs Grupo PF</th>\n",
       "      <th>% PDVs Mercado PF</th>\n",
       "    </tr>\n",
       "  </thead>\n",
       "  <tbody>\n",
       "    <tr>\n",
       "      <th>0</th>\n",
       "      <td>7893000005945</td>\n",
       "      <td>FILE PEITO FRANGO SADIA 1KG ZIP</td>\n",
       "      <td>SADIA</td>\n",
       "      <td>BRF</td>\n",
       "      <td>ACOUGUE</td>\n",
       "      <td>AVE</td>\n",
       "      <td>AUTO SERVICO CONGELADO</td>\n",
       "      <td>1.0</td>\n",
       "      <td>1.0</td>\n",
       "      <td>0.0715</td>\n",
       "      <td>...</td>\n",
       "      <td>1</td>\n",
       "      <td>1.325676e+06</td>\n",
       "      <td>1.227136e+06</td>\n",
       "      <td>748.0</td>\n",
       "      <td>673.0</td>\n",
       "      <td>15.12</td>\n",
       "      <td>16.27</td>\n",
       "      <td>0.929</td>\n",
       "      <td>1.0</td>\n",
       "      <td>0.90</td>\n",
       "    </tr>\n",
       "    <tr>\n",
       "      <th>1</th>\n",
       "      <td>7893000516083</td>\n",
       "      <td>FILEZINHO SASSAMI IQF SADIA PACOTE 1KG /42609</td>\n",
       "      <td>SADIA</td>\n",
       "      <td>BRF</td>\n",
       "      <td>ACOUGUE</td>\n",
       "      <td>AVE</td>\n",
       "      <td>AUTO SERVICO CONGELADO</td>\n",
       "      <td>2.0</td>\n",
       "      <td>2.0</td>\n",
       "      <td>0.0715</td>\n",
       "      <td>...</td>\n",
       "      <td>2</td>\n",
       "      <td>1.325676e+06</td>\n",
       "      <td>1.018304e+06</td>\n",
       "      <td>780.0</td>\n",
       "      <td>608.0</td>\n",
       "      <td>14.49</td>\n",
       "      <td>15.68</td>\n",
       "      <td>0.924</td>\n",
       "      <td>1.0</td>\n",
       "      <td>0.86</td>\n",
       "    </tr>\n",
       "  </tbody>\n",
       "</table>\n",
       "<p>2 rows × 30 columns</p>\n",
       "</div>"
      ],
      "text/plain": [
       "   Código Barras SKU                                       Nome SKU Marca SKU  \\\n",
       "0      7893000005945                FILE PEITO FRANGO SADIA 1KG ZIP     SADIA   \n",
       "1      7893000516083  FILEZINHO SASSAMI IQF SADIA PACOTE 1KG /42609     SADIA   \n",
       "\n",
       "  Fabricante SKU   .Cesta .Categoria          .Sub-Categoria  \\\n",
       "0            BRF  ACOUGUE        AVE  AUTO SERVICO CONGELADO   \n",
       "1            BRF  ACOUGUE        AVE  AUTO SERVICO CONGELADO   \n",
       "\n",
       "   Ranking na Categoria Grupo     Ranking na Categoria Mercado     \\\n",
       "0                            1.0                              1.0   \n",
       "1                            2.0                              2.0   \n",
       "\n",
       "   Share Sku Grupo na Categoria  ...  Decil Mercado (Cesta)  \\\n",
       "0                        0.0715  ...                      1   \n",
       "1                        0.0715  ...                      2   \n",
       "\n",
       "   Valor Produto Grupo (6M)  Valor Produto Mercado (6M)  \\\n",
       "0              1.325676e+06                1.227136e+06   \n",
       "1              1.325676e+06                1.018304e+06   \n",
       "\n",
       "   Giro unitario por loja Grupo PF  Giro unitario por loja Mercado PF  \\\n",
       "0                            748.0                              673.0   \n",
       "1                            780.0                              608.0   \n",
       "\n",
       "   Preço médio Grupo PF  Preço médio Mercado PF  Indice de Preço PF  \\\n",
       "0                 15.12                   16.27               0.929   \n",
       "1                 14.49                   15.68               0.924   \n",
       "\n",
       "   % PDVs Grupo PF  % PDVs Mercado PF  \n",
       "0              1.0               0.90  \n",
       "1              1.0               0.86  \n",
       "\n",
       "[2 rows x 30 columns]"
      ]
     },
     "metadata": {},
     "output_type": "display_data"
    }
   ],
   "source": [
    "dados.head(2)"
   ]
  },
  {
   "cell_type": "code",
   "execution_count": 20,
   "id": "527b9b34",
   "metadata": {},
   "outputs": [
    {
     "data": {
      "text/plain": [
       "(62148, 30)"
      ]
     },
     "execution_count": 20,
     "metadata": {},
     "output_type": "execute_result"
    }
   ],
   "source": [
    "# tamanho do df\n",
    "dados.shape"
   ]
  },
  {
   "cell_type": "code",
   "execution_count": 21,
   "id": "34d9e9b9",
   "metadata": {},
   "outputs": [
    {
     "name": "stdout",
     "output_type": "stream",
     "text": [
      "Index(['Código Barras SKU', 'Nome SKU', 'Marca SKU', 'Fabricante SKU',\n",
      "       '.Cesta', '.Categoria', '.Sub-Categoria',\n",
      "       'Ranking na Categoria Grupo   ', 'Ranking na Categoria Mercado   ',\n",
      "       'Share Sku Grupo na Categoria', 'Share Sku Mercado na Categoria',\n",
      "       'Share Acc Categoria Grupo', 'Share Acc Categoria Mercado',\n",
      "       'Decil Grupo (Categoria)', 'Decil Mercado (Categoria)',\n",
      "       'Share Sku Grupo na Cesta', 'Share Sku Mercado na Cesta',\n",
      "       'Share Acc Cesta Grupo', 'Share Acc Cesta Mercado',\n",
      "       'Decil Grupo\\n(Cesta)', 'Decil Mercado (Cesta)',\n",
      "       'Valor Produto Grupo (6M)', 'Valor Produto Mercado (6M)',\n",
      "       'Giro unitario por loja Grupo PF', 'Giro unitario por loja Mercado PF',\n",
      "       'Preço médio Grupo PF', 'Preço médio Mercado PF', 'Indice de Preço PF',\n",
      "       '% PDVs Grupo PF', '% PDVs Mercado PF'],\n",
      "      dtype='object')\n"
     ]
    }
   ],
   "source": [
    "# verificando as colunas\n",
    "print(dados.columns)"
   ]
  },
  {
   "cell_type": "code",
   "execution_count": 22,
   "id": "94cef153",
   "metadata": {},
   "outputs": [],
   "source": [
    "# selecionando as colunas\n",
    "dados = dados[['Código Barras SKU', 'Nome SKU', '.Cesta', 'Share Sku Grupo na Cesta', 'Share Sku Mercado na Cesta']]"
   ]
  },
  {
   "cell_type": "code",
   "execution_count": 25,
   "id": "c6ac44e6",
   "metadata": {},
   "outputs": [
    {
     "data": {
      "text/plain": [
       "Código Barras SKU                 0\n",
       "Nome SKU                          0\n",
       ".Cesta                            0\n",
       "Share Sku Grupo na Cesta      47365\n",
       "Share Sku Mercado na Cesta     6136\n",
       "dtype: int64"
      ]
     },
     "execution_count": 25,
     "metadata": {},
     "output_type": "execute_result"
    }
   ],
   "source": [
    "# verificando os dados nulos\n",
    "dados.isnull().sum()"
   ]
  },
  {
   "cell_type": "code",
   "execution_count": 34,
   "id": "dc874c44",
   "metadata": {},
   "outputs": [
    {
     "data": {
      "text/plain": [
       "Código Barras SKU             10604\n",
       "Nome SKU                      10604\n",
       ".Cesta                        10604\n",
       "Share Sku Grupo na Cesta      10604\n",
       "Share Sku Mercado na Cesta    10604\n",
       "dtype: int64"
      ]
     },
     "execution_count": 34,
     "metadata": {},
     "output_type": "execute_result"
    }
   ],
   "source": [
    "# verificando quantidade de dados que tem dados em ambas as colunas, pois no df principal tem 62.148 linhas\n",
    "dados[(dados['Share Sku Grupo na Cesta'].notnull()) & (dados['Share Sku Mercado na Cesta'].notnull())].count()"
   ]
  },
  {
   "cell_type": "code",
   "execution_count": 37,
   "id": "51de76f9",
   "metadata": {},
   "outputs": [],
   "source": [
    "# removendo os valores nulos\n",
    "dados.dropna(inplace=True)"
   ]
  },
  {
   "cell_type": "code",
   "execution_count": 40,
   "id": "c2e0e402",
   "metadata": {},
   "outputs": [
    {
     "data": {
      "text/plain": [
       "Código Barras SKU               int64\n",
       "Nome SKU                       object\n",
       ".Cesta                         object\n",
       "Share Sku Grupo na Cesta      float64\n",
       "Share Sku Mercado na Cesta    float64\n",
       "dtype: object"
      ]
     },
     "execution_count": 40,
     "metadata": {},
     "output_type": "execute_result"
    }
   ],
   "source": [
    "# tipos de dados\n",
    "dados.dtypes"
   ]
  },
  {
   "cell_type": "markdown",
   "id": "c47b4981",
   "metadata": {},
   "source": [
    "#### Análise exploratória dos dados"
   ]
  },
  {
   "cell_type": "code",
   "execution_count": 39,
   "id": "2a6557d9",
   "metadata": {},
   "outputs": [
    {
     "data": {
      "text/html": [
       "<div>\n",
       "<style scoped>\n",
       "    .dataframe tbody tr th:only-of-type {\n",
       "        vertical-align: middle;\n",
       "    }\n",
       "\n",
       "    .dataframe tbody tr th {\n",
       "        vertical-align: top;\n",
       "    }\n",
       "\n",
       "    .dataframe thead th {\n",
       "        text-align: right;\n",
       "    }\n",
       "</style>\n",
       "<table border=\"1\" class=\"dataframe\">\n",
       "  <thead>\n",
       "    <tr style=\"text-align: right;\">\n",
       "      <th></th>\n",
       "      <th>Código Barras SKU</th>\n",
       "      <th>Share Sku Grupo na Cesta</th>\n",
       "      <th>Share Sku Mercado na Cesta</th>\n",
       "    </tr>\n",
       "  </thead>\n",
       "  <tbody>\n",
       "    <tr>\n",
       "      <th>count</th>\n",
       "      <td>1.060400e+04</td>\n",
       "      <td>10604.000000</td>\n",
       "      <td>10604.000000</td>\n",
       "    </tr>\n",
       "    <tr>\n",
       "      <th>mean</th>\n",
       "      <td>7.630491e+12</td>\n",
       "      <td>0.001269</td>\n",
       "      <td>0.000796</td>\n",
       "    </tr>\n",
       "    <tr>\n",
       "      <th>std</th>\n",
       "      <td>1.285187e+12</td>\n",
       "      <td>0.005130</td>\n",
       "      <td>0.002798</td>\n",
       "    </tr>\n",
       "    <tr>\n",
       "      <th>min</th>\n",
       "      <td>4.211020e+07</td>\n",
       "      <td>0.000000</td>\n",
       "      <td>0.000000</td>\n",
       "    </tr>\n",
       "    <tr>\n",
       "      <th>25%</th>\n",
       "      <td>7.891097e+12</td>\n",
       "      <td>0.000100</td>\n",
       "      <td>0.000100</td>\n",
       "    </tr>\n",
       "    <tr>\n",
       "      <th>50%</th>\n",
       "      <td>7.896009e+12</td>\n",
       "      <td>0.000300</td>\n",
       "      <td>0.000200</td>\n",
       "    </tr>\n",
       "    <tr>\n",
       "      <th>75%</th>\n",
       "      <td>7.896832e+12</td>\n",
       "      <td>0.000800</td>\n",
       "      <td>0.000600</td>\n",
       "    </tr>\n",
       "    <tr>\n",
       "      <th>max</th>\n",
       "      <td>1.789822e+13</td>\n",
       "      <td>0.284600</td>\n",
       "      <td>0.083000</td>\n",
       "    </tr>\n",
       "  </tbody>\n",
       "</table>\n",
       "</div>"
      ],
      "text/plain": [
       "       Código Barras SKU  Share Sku Grupo na Cesta  Share Sku Mercado na Cesta\n",
       "count       1.060400e+04              10604.000000                10604.000000\n",
       "mean        7.630491e+12                  0.001269                    0.000796\n",
       "std         1.285187e+12                  0.005130                    0.002798\n",
       "min         4.211020e+07                  0.000000                    0.000000\n",
       "25%         7.891097e+12                  0.000100                    0.000100\n",
       "50%         7.896009e+12                  0.000300                    0.000200\n",
       "75%         7.896832e+12                  0.000800                    0.000600\n",
       "max         1.789822e+13                  0.284600                    0.083000"
      ]
     },
     "execution_count": 39,
     "metadata": {},
     "output_type": "execute_result"
    }
   ],
   "source": [
    "dados.describe()"
   ]
  },
  {
   "cell_type": "markdown",
   "id": "ab5dccad",
   "metadata": {},
   "source": [
    "Verificando a correlação das variáveis"
   ]
  },
  {
   "cell_type": "code",
   "execution_count": 42,
   "id": "dd6ed701",
   "metadata": {},
   "outputs": [
    {
     "data": {
      "text/plain": [
       "<Axes: >"
      ]
     },
     "execution_count": 42,
     "metadata": {},
     "output_type": "execute_result"
    },
    {
     "data": {
      "image/png": "[encoded data removed]",
      "text/plain": [
       "<Figure size 600x400 with 2 Axes>"
      ]
     },
     "metadata": {},
     "output_type": "display_data"
    }
   ],
   "source": [
    "plt.figure(figsize=(6, 4))\n",
    "sns.heatmap(dados[['Share Sku Grupo na Cesta', 'Share Sku Mercado na Cesta']].corr(method='pearson'), annot=True, fmt='.1f')"
   ]
  },
  {
   "cell_type": "code",
   "execution_count": 45,
   "id": "d52b4fd8",
   "metadata": {},
   "outputs": [
    {
     "data": {
      "image/png": "[encoded data removed]",
      "text/plain": [
       "<Figure size 600x400 with 1 Axes>"
      ]
     },
     "metadata": {},
     "output_type": "display_data"
    }
   ],
   "source": [
    "plt.figure(figsize=(6, 4))\n",
    "plt.scatter(dados['Share Sku Grupo na Cesta'], dados['Share Sku Mercado na Cesta'])\n",
    "plt.show()"
   ]
  },
  {
   "cell_type": "markdown",
   "id": "d44d8be8",
   "metadata": {},
   "source": [
    "#### Feature Scalling\n",
    "\n",
    "Verificando a necessidade de utilizar a padronização ou normalização dos dados."
   ]
  },
  {
   "cell_type": "code",
   "execution_count": 54,
   "id": "1380ef67",
   "metadata": {},
   "outputs": [],
   "source": [
    "# padronizando as escalas\n",
    "scaler = StandardScaler()\n",
    "dados_scaled = scaler.fit_transform(dados[['Share Sku Grupo na Cesta', 'Share Sku Mercado na Cesta']])\n",
    "\n",
    "dados_scaled = pd.DataFrame(dados_scaled, columns=['Share Sku Grupo na Cesta', 'Share Sku Mercado na Cesta'])"
   ]
  },
  {
   "cell_type": "markdown",
   "id": "d2ed3136",
   "metadata": {},
   "source": [
    "#### Criando os modelos"
   ]
  },
  {
   "cell_type": "markdown",
   "id": "4a94e106",
   "metadata": {},
   "source": [
    "K-Means\n",
    "\n",
    "- Escolhendo a quantidade de clusters a utilizar no modelo"
   ]
  },
  {
   "cell_type": "code",
   "execution_count": 56,
   "id": "ca81460a",
   "metadata": {},
   "outputs": [
    {
     "name": "stdout",
     "output_type": "stream",
     "text": [
      "[1, 2, 3, 4, 5, 6, 7, 8, 9]\n"
     ]
    }
   ],
   "source": [
    "# lista com quantidade de clusters que serão testados\n",
    "k = list(range(1, 10))\n",
    "print(k)"
   ]
  },
  {
   "cell_type": "code",
   "execution_count": 57,
   "id": "4af0ac03",
   "metadata": {},
   "outputs": [
    {
     "data": {
      "image/png": "[encoded data removed]",
      "text/plain": [
       "<Figure size 600x400 with 1 Axes>"
      ]
     },
     "metadata": {},
     "output_type": "display_data"
    }
   ],
   "source": [
    "# armazenando SSE (soma dos erros quadrático) para cada valor de k\n",
    "sse = []\n",
    "\n",
    "# rodando o kmeans para cada valor de k\n",
    "for i in k:\n",
    "    kmeans = KMeans(n_clusters=i, random_state=42)\n",
    "    kmeans.fit(dados_scaled)\n",
    "    sse.append(kmeans.inertia_) # inertia_ é o SSE\n",
    "\n",
    "# potando o gráfico\n",
    "plt.figure(figsize=(6, 4))\n",
    "plt.plot(k, sse, marker='o')\n",
    "plt.xlabel('Número de clusters')\n",
    "plt.ylabel('SSE')\n",
    "plt.title('SSE vs Número de clusters')\n",
    "plt.show()\n"
   ]
  }
 ],
 "metadata": {
  "kernelspec": {
   "display_name": "Python 3 (ipykernel)",
   "language": "python",
   "name": "python3"
  },
  "language_info": {
   "codemirror_mode": {
    "name": "ipython",
    "version": 3
   },
   "file_extension": ".py",
   "mimetype": "text/x-python",
   "name": "python",
   "nbconvert_exporter": "python",
   "pygments_lexer": "ipython3",
   "version": "3.12.2"
  }
 },
 "nbformat": 4,
 "nbformat_minor": 5
}
